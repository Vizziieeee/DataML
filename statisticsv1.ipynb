{
 "cells": [
  {
   "cell_type": "code",
   "execution_count": 30,
   "id": "e3244f7b-5454-4ba5-b011-33ba7f43bfc6",
   "metadata": {},
   "outputs": [],
   "source": [
    "import pandas as pd\n",
    "from sklearn.model_selection import train_test_split\n",
    "from sklearn.linear_model import LinearRegression\n",
    "from sklearn.metrics import mean_squared_error\n",
    "import statistics"
   ]
  },
  {
   "cell_type": "code",
   "execution_count": 31,
   "id": "9bf28b98-6c3d-4c02-8c4c-c5277905721c",
   "metadata": {},
   "outputs": [],
   "source": [
    "data = pd.read_csv('dataset/insurance.csv')"
   ]
  },
  {
   "cell_type": "code",
   "execution_count": 32,
   "id": "dbf78b6a-a92f-4e78-9425-db6f66cdd642",
   "metadata": {},
   "outputs": [],
   "source": [
    "target = data['charges'] \n",
    "\n",
    "mean = target.mean()\n",
    "try:\n",
    "    mode = statistics.mode(target)\n",
    "except statistics.StatisticsError:\n",
    "    mode = \"No unique mode found\"\n",
    "median = target.median()\n",
    "std_dev = target.std()"
   ]
  },
  {
   "cell_type": "code",
   "execution_count": 35,
   "id": "78c8e206-e200-4f28-94c8-28b8abb24d6d",
   "metadata": {},
   "outputs": [
    {
     "name": "stdout",
     "output_type": "stream",
     "text": [
      "Mean: 13270.422265141257\n",
      "Mode: 1639.5631\n",
      "Median: 9382.033\n",
      "Standard Deviation: 12110.011236693994\n"
     ]
    }
   ],
   "source": [
    "mean = target.mean()\n",
    "try:\n",
    "    mode = statistics.mode(target)\n",
    "except statistics.StatisticsError:\n",
    "    mode = \"No unique mode found\"\n",
    "median = target.median()\n",
    "std_dev = target.std()\n",
    "\n",
    "#results\n",
    "print(\"Mean:\", mean)\n",
    "print(\"Mode:\", mode)\n",
    "print(\"Median:\", median)\n",
    "print(\"Standard Deviation:\", std_dev)"
   ]
  },
  {
   "cell_type": "code",
   "execution_count": null,
   "id": "97094558-9ef0-4927-9384-ea2b65c5feaf",
   "metadata": {},
   "outputs": [],
   "source": []
  },
  {
   "cell_type": "code",
   "execution_count": null,
   "id": "56bb8fc8-9407-498b-ad6e-90a5a69f759e",
   "metadata": {},
   "outputs": [],
   "source": []
  }
 ],
 "metadata": {
  "kernelspec": {
   "display_name": "Python 3",
   "language": "python",
   "name": "python3"
  },
  "language_info": {
   "codemirror_mode": {
    "name": "ipython",
    "version": 3
   },
   "file_extension": ".py",
   "mimetype": "text/x-python",
   "name": "python",
   "nbconvert_exporter": "python",
   "pygments_lexer": "ipython3",
   "version": "3.8.8"
  }
 },
 "nbformat": 4,
 "nbformat_minor": 5
}
